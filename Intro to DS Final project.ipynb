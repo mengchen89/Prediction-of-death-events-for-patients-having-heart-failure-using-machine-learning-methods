{
 "cells": [
  {
   "cell_type": "code",
   "execution_count": null,
   "metadata": {
    "colab": {
     "base_uri": "https://localhost:8080/",
     "height": 268
    },
    "executionInfo": {
     "elapsed": 298,
     "status": "ok",
     "timestamp": 1640057067737,
     "user": {
      "displayName": "rowy zhong",
      "photoUrl": "https://lh3.googleusercontent.com/a/default-user=s64",
      "userId": "14852675221429198810"
     },
     "user_tz": 300
    },
    "id": "ZfEkTtZLICGr",
    "outputId": "8e544025-bb1f-44e8-ff71-d8729600b613"
   },
   "outputs": [
    {
     "data": {
      "text/html": [
       "\n",
       "  <div id=\"df-f51ca86b-cc97-4811-8e44-041b23e477ac\">\n",
       "    <div class=\"colab-df-container\">\n",
       "      <div>\n",
       "<style scoped>\n",
       "    .dataframe tbody tr th:only-of-type {\n",
       "        vertical-align: middle;\n",
       "    }\n",
       "\n",
       "    .dataframe tbody tr th {\n",
       "        vertical-align: top;\n",
       "    }\n",
       "\n",
       "    .dataframe thead th {\n",
       "        text-align: right;\n",
       "    }\n",
       "</style>\n",
       "<table border=\"1\" class=\"dataframe\">\n",
       "  <thead>\n",
       "    <tr style=\"text-align: right;\">\n",
       "      <th></th>\n",
       "      <th>age</th>\n",
       "      <th>anaemia</th>\n",
       "      <th>creatinine_phosphokinase</th>\n",
       "      <th>diabetes</th>\n",
       "      <th>ejection_fraction</th>\n",
       "      <th>high_blood_pressure</th>\n",
       "      <th>platelets</th>\n",
       "      <th>serum_creatinine</th>\n",
       "      <th>serum_sodium</th>\n",
       "      <th>sex</th>\n",
       "      <th>smoking</th>\n",
       "      <th>time</th>\n",
       "      <th>DEATH_EVENT</th>\n",
       "    </tr>\n",
       "  </thead>\n",
       "  <tbody>\n",
       "    <tr>\n",
       "      <th>0</th>\n",
       "      <td>75.0</td>\n",
       "      <td>0</td>\n",
       "      <td>582</td>\n",
       "      <td>0</td>\n",
       "      <td>20</td>\n",
       "      <td>1</td>\n",
       "      <td>265000.00</td>\n",
       "      <td>1.9</td>\n",
       "      <td>130</td>\n",
       "      <td>1</td>\n",
       "      <td>0</td>\n",
       "      <td>4</td>\n",
       "      <td>1</td>\n",
       "    </tr>\n",
       "    <tr>\n",
       "      <th>1</th>\n",
       "      <td>55.0</td>\n",
       "      <td>0</td>\n",
       "      <td>7861</td>\n",
       "      <td>0</td>\n",
       "      <td>38</td>\n",
       "      <td>0</td>\n",
       "      <td>263358.03</td>\n",
       "      <td>1.1</td>\n",
       "      <td>136</td>\n",
       "      <td>1</td>\n",
       "      <td>0</td>\n",
       "      <td>6</td>\n",
       "      <td>1</td>\n",
       "    </tr>\n",
       "    <tr>\n",
       "      <th>2</th>\n",
       "      <td>65.0</td>\n",
       "      <td>0</td>\n",
       "      <td>146</td>\n",
       "      <td>0</td>\n",
       "      <td>20</td>\n",
       "      <td>0</td>\n",
       "      <td>162000.00</td>\n",
       "      <td>1.3</td>\n",
       "      <td>129</td>\n",
       "      <td>1</td>\n",
       "      <td>1</td>\n",
       "      <td>7</td>\n",
       "      <td>1</td>\n",
       "    </tr>\n",
       "    <tr>\n",
       "      <th>3</th>\n",
       "      <td>50.0</td>\n",
       "      <td>1</td>\n",
       "      <td>111</td>\n",
       "      <td>0</td>\n",
       "      <td>20</td>\n",
       "      <td>0</td>\n",
       "      <td>210000.00</td>\n",
       "      <td>1.9</td>\n",
       "      <td>137</td>\n",
       "      <td>1</td>\n",
       "      <td>0</td>\n",
       "      <td>7</td>\n",
       "      <td>1</td>\n",
       "    </tr>\n",
       "    <tr>\n",
       "      <th>4</th>\n",
       "      <td>65.0</td>\n",
       "      <td>1</td>\n",
       "      <td>160</td>\n",
       "      <td>1</td>\n",
       "      <td>20</td>\n",
       "      <td>0</td>\n",
       "      <td>327000.00</td>\n",
       "      <td>2.7</td>\n",
       "      <td>116</td>\n",
       "      <td>0</td>\n",
       "      <td>0</td>\n",
       "      <td>8</td>\n",
       "      <td>1</td>\n",
       "    </tr>\n",
       "  </tbody>\n",
       "</table>\n",
       "</div>\n",
       "      <button class=\"colab-df-convert\" onclick=\"convertToInteractive('df-f51ca86b-cc97-4811-8e44-041b23e477ac')\"\n",
       "              title=\"Convert this dataframe to an interactive table.\"\n",
       "              style=\"display:none;\">\n",
       "        \n",
       "  <svg xmlns=\"http://www.w3.org/2000/svg\" height=\"24px\"viewBox=\"0 0 24 24\"\n",
       "       width=\"24px\">\n",
       "    <path d=\"M0 0h24v24H0V0z\" fill=\"none\"/>\n",
       "    <path d=\"M18.56 5.44l.94 2.06.94-2.06 2.06-.94-2.06-.94-.94-2.06-.94 2.06-2.06.94zm-11 1L8.5 8.5l.94-2.06 2.06-.94-2.06-.94L8.5 2.5l-.94 2.06-2.06.94zm10 10l.94 2.06.94-2.06 2.06-.94-2.06-.94-.94-2.06-.94 2.06-2.06.94z\"/><path d=\"M17.41 7.96l-1.37-1.37c-.4-.4-.92-.59-1.43-.59-.52 0-1.04.2-1.43.59L10.3 9.45l-7.72 7.72c-.78.78-.78 2.05 0 2.83L4 21.41c.39.39.9.59 1.41.59.51 0 1.02-.2 1.41-.59l7.78-7.78 2.81-2.81c.8-.78.8-2.07 0-2.86zM5.41 20L4 18.59l7.72-7.72 1.47 1.35L5.41 20z\"/>\n",
       "  </svg>\n",
       "      </button>\n",
       "      \n",
       "  <style>\n",
       "    .colab-df-container {\n",
       "      display:flex;\n",
       "      flex-wrap:wrap;\n",
       "      gap: 12px;\n",
       "    }\n",
       "\n",
       "    .colab-df-convert {\n",
       "      background-color: #E8F0FE;\n",
       "      border: none;\n",
       "      border-radius: 50%;\n",
       "      cursor: pointer;\n",
       "      display: none;\n",
       "      fill: #1967D2;\n",
       "      height: 32px;\n",
       "      padding: 0 0 0 0;\n",
       "      width: 32px;\n",
       "    }\n",
       "\n",
       "    .colab-df-convert:hover {\n",
       "      background-color: #E2EBFA;\n",
       "      box-shadow: 0px 1px 2px rgba(60, 64, 67, 0.3), 0px 1px 3px 1px rgba(60, 64, 67, 0.15);\n",
       "      fill: #174EA6;\n",
       "    }\n",
       "\n",
       "    [theme=dark] .colab-df-convert {\n",
       "      background-color: #3B4455;\n",
       "      fill: #D2E3FC;\n",
       "    }\n",
       "\n",
       "    [theme=dark] .colab-df-convert:hover {\n",
       "      background-color: #434B5C;\n",
       "      box-shadow: 0px 1px 3px 1px rgba(0, 0, 0, 0.15);\n",
       "      filter: drop-shadow(0px 1px 2px rgba(0, 0, 0, 0.3));\n",
       "      fill: #FFFFFF;\n",
       "    }\n",
       "  </style>\n",
       "\n",
       "      <script>\n",
       "        const buttonEl =\n",
       "          document.querySelector('#df-f51ca86b-cc97-4811-8e44-041b23e477ac button.colab-df-convert');\n",
       "        buttonEl.style.display =\n",
       "          google.colab.kernel.accessAllowed ? 'block' : 'none';\n",
       "\n",
       "        async function convertToInteractive(key) {\n",
       "          const element = document.querySelector('#df-f51ca86b-cc97-4811-8e44-041b23e477ac');\n",
       "          const dataTable =\n",
       "            await google.colab.kernel.invokeFunction('convertToInteractive',\n",
       "                                                     [key], {});\n",
       "          if (!dataTable) return;\n",
       "\n",
       "          const docLinkHtml = 'Like what you see? Visit the ' +\n",
       "            '<a target=\"_blank\" href=https://colab.research.google.com/notebooks/data_table.ipynb>data table notebook</a>'\n",
       "            + ' to learn more about interactive tables.';\n",
       "          element.innerHTML = '';\n",
       "          dataTable['output_type'] = 'display_data';\n",
       "          await google.colab.output.renderOutput(dataTable, element);\n",
       "          const docLink = document.createElement('div');\n",
       "          docLink.innerHTML = docLinkHtml;\n",
       "          element.appendChild(docLink);\n",
       "        }\n",
       "      </script>\n",
       "    </div>\n",
       "  </div>\n",
       "  "
      ],
      "text/plain": [
       "    age  anaemia  creatinine_phosphokinase  ...  smoking  time  DEATH_EVENT\n",
       "0  75.0        0                       582  ...        0     4            1\n",
       "1  55.0        0                      7861  ...        0     6            1\n",
       "2  65.0        0                       146  ...        1     7            1\n",
       "3  50.0        1                       111  ...        0     7            1\n",
       "4  65.0        1                       160  ...        0     8            1\n",
       "\n",
       "[5 rows x 13 columns]"
      ]
     },
     "execution_count": 1,
     "metadata": {},
     "output_type": "execute_result"
    }
   ],
   "source": [
    "import numpy as np\n",
    "import pandas as pd \n",
    "dataset = 'https://raw.githubusercontent.com/shrutihegde98/Project636/main/heart_failure_clinical_records_dataset.csv'\n",
    "data = pd.read_csv(dataset)\n",
    "data.head()"
   ]
  },
  {
   "cell_type": "code",
   "execution_count": null,
   "metadata": {
    "id": "kt_a2CfrLg8C"
   },
   "outputs": [],
   "source": [
    "from sklearn.model_selection import train_test_split\n",
    "from sklearn.metrics import accuracy_score\n",
    "\n",
    "\n",
    "y = data['DEATH_EVENT']\n",
    "X = data.drop(['DEATH_EVENT','time'], axis=1)\n",
    "# Stratify the data because X is unbalanced\n",
    "X_train, X_test, y_train, y_test = train_test_split(X, y, test_size=0.3, random_state=100,stratify=y.values)\n",
    "\n",
    "# Here we only select feature #4 and #7 based on medical knowledge from doctor in medical field\n",
    "index=[4,7]\n",
    "top_name=X.columns[index]\n",
    "X_train = X_train[top_name]\n",
    "X_test = X_test[top_name]\n",
    "# X_train = np.array(X_train)\n",
    "#list for comparing different models\n",
    "accuracy_list=[]"
   ]
  },
  {
   "cell_type": "code",
   "execution_count": null,
   "metadata": {
    "colab": {
     "base_uri": "https://localhost:8080/"
    },
    "executionInfo": {
     "elapsed": 17379,
     "status": "ok",
     "timestamp": 1640057085671,
     "user": {
      "displayName": "rowy zhong",
      "photoUrl": "https://lh3.googleusercontent.com/a/default-user=s64",
      "userId": "14852675221429198810"
     },
     "user_tz": 300
    },
    "id": "NnSD5IGDe9OC",
    "outputId": "b8abe8d0-b270-495a-ed5e-92595ccf1b9a"
   },
   "outputs": [
    {
     "name": "stdout",
     "output_type": "stream",
     "text": [
      "Tuned hyperparameter n_estimators: {'max_depth': 10, 'max_features': None}\n",
      "Best score: 0.7509316770186336\n",
      "Best Estimator: RandomForestClassifier(max_depth=10, max_features=None, random_state=100)\n",
      "Prediction using RF: cross validation:  0.6888888888888889\n",
      "Prediction using random forest: accuracy:  0.7666666666666667\n"
     ]
    }
   ],
   "source": [
    "# random forest\n",
    "from sklearn.ensemble import RandomForestClassifier\n",
    "from sklearn.model_selection import cross_val_score\n",
    "import matplotlib.pyplot as plt\n",
    "from sklearn.model_selection import GridSearchCV\n",
    "\n",
    "RF_reg = RandomForestClassifier(random_state=100)\n",
    "grid = {\"max_features\" : [\"auto\", \"sqrt\",'log2', None],\n",
    "        \"max_depth\": [1,10,15,20,50,100,1000]}\n",
    "RF_reg_cv = GridSearchCV(RF_reg, grid, cv=3)\n",
    "RF_reg_cv.fit(X_train,y_train)\n",
    "print(\"Tuned hyperparameter n_estimators: {}\".format(RF_reg_cv.best_params_)) \n",
    "print(\"Best score: {}\".format(RF_reg_cv.best_score_))\n",
    "print(\"Best Estimator: {}\".format(RF_reg_cv.best_estimator_))\n",
    "\n",
    "RF_model = RF_reg_cv.best_estimator_.fit(X_train,y_train)\n",
    "#cross validation\n",
    "cv_results = cross_val_score(RF_model, X_test, y_test, cv=10)\n",
    "print(\"Prediction using RF: cross validation: \",np.mean(cv_results))\n",
    "#accuracy using best parameter\n",
    "RF_prediction = RF_model.predict(X_test)\n",
    "print(\"Prediction using random forest: accuracy: \", accuracy_score(y_test, RF_prediction))\n",
    "RF_accuracy = accuracy_score(y_test, RF_prediction)\n",
    "accuracy_list.append(RF_accuracy)"
   ]
  },
  {
   "cell_type": "code",
   "execution_count": null,
   "metadata": {
    "id": "1csaOACTnjYk"
   },
   "outputs": [],
   "source": [
    "# from sklearn.ensemble import BaggingClassifier\n",
    "# from sklearn.tree import DecisionTreeClassifier\n",
    "\n",
    "# DF_reg = DecisionTreeClassifier(random_state=100,max_depth=10)\n",
    "# grid = {\"max_features\" : [\"auto\", \"sqrt\",'log2', None]}\n",
    "# DF_reg_cv = GridSearchCV(DF_reg, grid, cv=3)\n",
    "# DF_reg_cv.fit(X_train,y_train)\n",
    "# print(\"Tuned hyperparameter n_estimators: {}\".format(DF_reg_cv.best_params_)) \n",
    "# print(\"Best score: {}\".format(DF_reg_cv.best_score_))\n",
    "# print(\"Best Estimator: {}\".format(DF_reg_cv.best_estimator_))\n",
    "\n",
    "# DF_model = DF_reg_cv.best_estimator_.fit(X_train,y_train)\n",
    "# DF_prediction = DF_model.predict(X_test)\n",
    "# #cross validation\n",
    "# cv_results = cross_val_score(DF_model, X_test, y_test, cv=10)\n",
    "# print(\"Prediction using Decision tree: cross validation: \",np.mean(cv_results))\n",
    "\n",
    "# BF_model = BaggingClassifier(random_state=100).fit(X_train, y_train)\n",
    "# BF_prediction = BF_model.predict(X_test)\n",
    "# #cross validation\n",
    "# cv_results = cross_val_score(BF_model, X_test, y_test, cv=10)\n",
    "# print(\"Prediction using Bagging: cross validation: \",np.mean(cv_results))\n",
    "\n",
    "# DF_score = accuracy_score(y_test, DF_prediction)\n",
    "# BF_score = accuracy_score(y_test, BF_prediction)\n",
    "# print(\"Accuracy score for bagging classifier:\", BF_score)\n",
    "# print(\"Accuracy score for decision tree classifier:\", DF_score)\n"
   ]
  },
  {
   "cell_type": "code",
   "execution_count": null,
   "metadata": {
    "colab": {
     "base_uri": "https://localhost:8080/"
    },
    "executionInfo": {
     "elapsed": 559,
     "status": "ok",
     "timestamp": 1640057086223,
     "user": {
      "displayName": "rowy zhong",
      "photoUrl": "https://lh3.googleusercontent.com/a/default-user=s64",
      "userId": "14852675221429198810"
     },
     "user_tz": 300
    },
    "id": "L_ctqS8UU8V6",
    "outputId": "2f78e3bd-51fa-424f-82b8-78536f8ef34f"
   },
   "outputs": [
    {
     "name": "stdout",
     "output_type": "stream",
     "text": [
      "Tuned hyperparameter n_estimators: {'C': 1}\n",
      "Best score: 0.7463768115942028\n",
      "Best Estimator: LogisticRegression(C=1, random_state=100)\n",
      "Prediction using logistic regression: cross validation:  0.7555555555555556\n",
      "Prediction using logistic regression: accuracy:  0.7555555555555555\n"
     ]
    }
   ],
   "source": [
    " # Logistic regression\n",
    "from sklearn.linear_model import LogisticRegression\n",
    "from sklearn.model_selection import GridSearchCV\n",
    "import warnings\n",
    "warnings.simplefilter(action='ignore', category=UserWarning)\n",
    "\n",
    "#Grid search\n",
    "log_reg = LogisticRegression(random_state=100)\n",
    "grid = {\"C\" : [0.1, 1,10,50,75,100,1000]}\n",
    "log_reg_cv = GridSearchCV(log_reg, grid, cv=3)\n",
    "log_reg_cv.fit(X_train,y_train)\n",
    "print(\"Tuned hyperparameter n_estimators: {}\".format(log_reg_cv.best_params_)) \n",
    "print(\"Best score: {}\".format(log_reg_cv.best_score_))\n",
    "print(\"Best Estimator: {}\".format(log_reg_cv.best_estimator_))\n",
    "\n",
    "logistic_model = log_reg_cv.best_estimator_.fit(X_train,y_train)\n",
    "#cross validation\n",
    "cv_results = cross_val_score(logistic_model, X_test, y_test, cv=10)\n",
    "print(\"Prediction using logistic regression: cross validation: \",np.mean(cv_results))\n",
    "#accuracy using best parameters\n",
    "logistic_prediction = logistic_model.predict(X_test)\n",
    "LogReg_accuracy=accuracy_score(y_test, logistic_prediction)\n",
    "print(\"Prediction using logistic regression: accuracy: \",LogReg_accuracy )\n",
    "accuracy_list.append(LogReg_accuracy)"
   ]
  },
  {
   "cell_type": "code",
   "execution_count": null,
   "metadata": {
    "colab": {
     "base_uri": "https://localhost:8080/"
    },
    "executionInfo": {
     "elapsed": 879,
     "status": "ok",
     "timestamp": 1640057087098,
     "user": {
      "displayName": "rowy zhong",
      "photoUrl": "https://lh3.googleusercontent.com/a/default-user=s64",
      "userId": "14852675221429198810"
     },
     "user_tz": 300
    },
    "id": "XF0LcMuV_GWN",
    "outputId": "92b8364b-2ce7-46d1-e038-0fd784df6a76"
   },
   "outputs": [
    {
     "name": "stdout",
     "output_type": "stream",
     "text": [
      "{'C': 50, 'gamma': 1, 'kernel': 'rbf'}\n",
      "SVC(C=50, gamma=1)\n",
      "0.7513457556935818\n"
     ]
    }
   ],
   "source": [
    "# SVM\n",
    "from sklearn.svm import SVC\n",
    "from sklearn.model_selection import GridSearchCV\n",
    " \n",
    "# defining parameter range\n",
    "param_grid = {'C': [0.1, 1, 10, 50, 75, 100, 1000],\n",
    "              'gamma': [1, 0.1, 0.01, 0.001, 0.0001],\n",
    "              'kernel': ['rbf']}\n",
    " \n",
    "grid = GridSearchCV(SVC(), param_grid, cv=3)\n",
    "# fitting the model for grid search\n",
    "grid.fit(X_train, y_train)\n",
    "# # print best parameter after tuning\n",
    "print(grid.best_params_)\n",
    "# print how our model looks after hyper-parameter tuning\n",
    "print(grid.best_estimator_)\n",
    "#print best score\n",
    "print(grid.best_score_)"
   ]
  },
  {
   "cell_type": "code",
   "execution_count": null,
   "metadata": {
    "colab": {
     "base_uri": "https://localhost:8080/"
    },
    "executionInfo": {
     "elapsed": 147,
     "status": "ok",
     "timestamp": 1640057087240,
     "user": {
      "displayName": "rowy zhong",
      "photoUrl": "https://lh3.googleusercontent.com/a/default-user=s64",
      "userId": "14852675221429198810"
     },
     "user_tz": 300
    },
    "id": "kjDUxeAkXGFO",
    "outputId": "1235d8de-253e-4762-e4f3-1c77bb0c51f9"
   },
   "outputs": [
    {
     "name": "stdout",
     "output_type": "stream",
     "text": [
      "Prediction using SVM: cross validation:  0.7444444444444445\n",
      "Prediction using SVM: accuracy:  0.7444444444444445\n"
     ]
    }
   ],
   "source": [
    "svm_model = grid.best_estimator_.fit(X_train,y_train)\n",
    "svm_prediction = svm_model.predict(X_test)\n",
    "#cross validation\n",
    "cv_results = cross_val_score(svm_model, X_test, y_test, cv=10)\n",
    "print(\"Prediction using SVM: cross validation: \",np.mean(cv_results))\n",
    "#accuracy score for best parameters\n",
    "SVM_accuracy=accuracy_score(y_test, svm_prediction)\n",
    "print(\"Prediction using SVM: accuracy: \", SVM_accuracy)\n",
    "accuracy_list.append(SVM_accuracy)"
   ]
  },
  {
   "cell_type": "code",
   "execution_count": null,
   "metadata": {
    "colab": {
     "base_uri": "https://localhost:8080/",
     "height": 282
    },
    "executionInfo": {
     "elapsed": 428,
     "status": "ok",
     "timestamp": 1640057087664,
     "user": {
      "displayName": "rowy zhong",
      "photoUrl": "https://lh3.googleusercontent.com/a/default-user=s64",
      "userId": "14852675221429198810"
     },
     "user_tz": 300
    },
    "id": "PKPCcf9OYwi8",
    "outputId": "e3e2f6d2-0259-48e1-9674-57ec29ddee00"
   },
   "outputs": [
    {
     "data": {
      "text/plain": [
       "[<matplotlib.lines.Line2D at 0x7f294bf24c10>]"
      ]
     },
     "execution_count": 8,
     "metadata": {},
     "output_type": "execute_result"
    },
    {
     "data": {
      "image/png": "[encoded data removed]",
      "text/plain": [
       "<Figure size 432x288 with 1 Axes>"
      ]
     },
     "metadata": {
      "needs_background": "light"
     },
     "output_type": "display_data"
    }
   ],
   "source": [
    "# KNN\n",
    "from sklearn.neighbors import KNeighborsClassifier\n",
    "import matplotlib.pyplot as plt\n",
    "knn_list = []\n",
    "for k in range(1,20):\n",
    "    knn_model = KNeighborsClassifier(n_neighbors=k)\n",
    "    knn_model.fit(X_train, y_train)\n",
    "    knn_prediction = knn_model.predict(X_test)\n",
    "    knn_accuracy = (round(accuracy_score(knn_prediction, y_test), 4) * 100)\n",
    "    knn_list.append(knn_accuracy)\n",
    "k = np.arange(1,20)\n",
    "plt.plot(k, knn_list,'-o')"
   ]
  },
  {
   "cell_type": "code",
   "execution_count": null,
   "metadata": {
    "colab": {
     "base_uri": "https://localhost:8080/"
    },
    "executionInfo": {
     "elapsed": 152,
     "status": "ok",
     "timestamp": 1640057087810,
     "user": {
      "displayName": "rowy zhong",
      "photoUrl": "https://lh3.googleusercontent.com/a/default-user=s64",
      "userId": "14852675221429198810"
     },
     "user_tz": 300
    },
    "id": "ftSs0E8KXOOp",
    "outputId": "5409d00e-bf6b-4063-a37c-6f0d66d1ab58"
   },
   "outputs": [
    {
     "name": "stdout",
     "output_type": "stream",
     "text": [
      "Prediction using KNN: cross validation:  0.7414285714285714\n",
      "Prediction using KNN: accuracy:  0.7333333333333333\n"
     ]
    }
   ],
   "source": [
    "from sklearn.model_selection import cross_val_score\n",
    "\n",
    "knn_model = KNeighborsClassifier(n_neighbors=10)\n",
    "knn_model.fit(X_train, y_train)\n",
    "knn_prediction = knn_model.predict(X_test)\n",
    "#cross validation\n",
    "cv_results = cross_val_score(knn_model, X_train, y_train, cv=10)\n",
    "print(\"Prediction using KNN: cross validation: \",np.mean(cv_results))\n",
    "#accuracy score for best parameter\n",
    "KNN_accuracy=accuracy_score(y_test, knn_prediction)\n",
    "print(\"Prediction using KNN: accuracy: \",KNN_accuracy )\n",
    "accuracy_list.append(KNN_accuracy)"
   ]
  },
  {
   "cell_type": "code",
   "execution_count": null,
   "metadata": {
    "colab": {
     "base_uri": "https://localhost:8080/",
     "height": 278
    },
    "executionInfo": {
     "elapsed": 14010,
     "status": "ok",
     "timestamp": 1640057101818,
     "user": {
      "displayName": "rowy zhong",
      "photoUrl": "https://lh3.googleusercontent.com/a/default-user=s64",
      "userId": "14852675221429198810"
     },
     "user_tz": 300
    },
    "id": "pPO865VH9t7Y",
    "outputId": "1a879541-06a5-4ad9-9113-a4a5fec6f963"
   },
   "outputs": [
    {
     "data": {
      "image/png": "[encoded data removed]",
      "text/plain": [
       "<Figure size 432x288 with 1 Axes>"
      ]
     },
     "metadata": {},
     "output_type": "display_data"
    }
   ],
   "source": [
    "import numpy as np\n",
    "import matplotlib.pyplot as plt\n",
    "from matplotlib.colors import ListedColormap\n",
    "from sklearn.ensemble import RandomForestClassifier\n",
    "from sklearn.neighbors import KNeighborsClassifier\n",
    "from sklearn.linear_model import LogisticRegression\n",
    "from sklearn.svm import SVC\n",
    "\n",
    "X_train = np.array(X_train)\n",
    "X_test = np.array(X_test)\n",
    "\n",
    "cmap_light = ListedColormap(['#FFBBBB', '#BBFFBB', '#BBBBFF'])\n",
    "cmap_bold = ListedColormap(['#CC0000', '#00AA00', '#0000CC'])\n",
    "cmap_test = ListedColormap(['g', 'y', 'k'])\n",
    "\n",
    "def make_meshgrid(x, y, h=.02):\n",
    "    x_min, x_max = x.min() - 1, x.max() + 1\n",
    "    y_min, y_max = y.min() - 1, y.max() + 1\n",
    "    xx, yy = np.meshgrid(np.arange(x_min, x_max, h), np.arange(y_min, y_max, h))\n",
    "    return xx, yy\n",
    "\n",
    "def plot_contours(ax, clf, xx, yy, **params):\n",
    "    Z = clf.predict(np.c_[xx.ravel(), yy.ravel()])\n",
    "    Z = Z.reshape(xx.shape)\n",
    "    out = ax.contourf(xx, yy, Z, **params)\n",
    "    return out\n",
    "\n",
    "clf = svm_model\n",
    "\n",
    "fig, ax = plt.subplots()\n",
    "# title for the plots\n",
    "title = ('2-class classification with svm classifier(random_state=100)')\n",
    "# Set-up grid for plotting.\n",
    "X0, X1 = X_train[:, 0], X_train[:, 1]\n",
    "xx, yy = make_meshgrid(X0, X1)\n",
    "X2, X3 = X_test[:,0], X_test[:,1]\n",
    "xx1, yy1 = make_meshgrid(X3, X3)\n",
    "\n",
    "plot_contours(ax, clf, xx, yy, cmap=cmap_light, alpha=0.8)\n",
    "# ax.scatter(X0, X1, c=y_train, cmap=cmap_bold, label='training data')\n",
    "ax.scatter(X2, X3, c=y_test, marker='x', cmap=cmap_bold, label='test data')\n",
    "ax.set_ylabel('serum creatinine')\n",
    "ax.set_xlabel('ejection fraction')\n",
    "ax.set_xticks(())\n",
    "ax.set_yticks(())\n",
    "ax.set_title(title)\n",
    "ax.legend()\n",
    "plt.show()"
   ]
  },
  {
   "cell_type": "code",
   "execution_count": 18,
   "metadata": {
    "colab": {
     "base_uri": "https://localhost:8080/",
     "height": 279
    },
    "executionInfo": {
     "elapsed": 635,
     "status": "ok",
     "timestamp": 1640058838700,
     "user": {
      "displayName": "rowy zhong",
      "photoUrl": "https://lh3.googleusercontent.com/a/default-user=s64",
      "userId": "14852675221429198810"
     },
     "user_tz": 300
    },
    "id": "H-X-knGLNT37",
    "outputId": "f4eec543-831a-48bd-bbbb-982fb335aceb"
   },
   "outputs": [
    {
     "data": {
      "image/png": "[encoded data removed]",
      "text/plain": [
       "<Figure size 432x288 with 1 Axes>"
      ]
     },
     "metadata": {
      "needs_background": "light"
     },
     "output_type": "display_data"
    }
   ],
   "source": [
    "xx = np.linspace(X_train[:,0].min()-0.5, X_train[:,0].max()+0.5, 50)\n",
    "yy = np.linspace(X_train[:,1].min()-0.5, X_train[:,1].max()+0.5, 50)\n",
    "YY, XX = np.meshgrid(yy, xx)\n",
    "xy = np.vstack([XX.ravel(), YY.ravel()]).T\n",
    "# Plot decision boundary and margins\n",
    "Z = svm_model.decision_function(xy).reshape(XX.shape)\n",
    "plt.contour(XX, YY, Z, colors='k', levels=[-1, 0, 1], alpha=0.5, linestyles=['--', '-', '--']);\n",
    "plt.scatter(X_train[:,0], X_train[:,1], c=y_train, label='training data');\n",
    "plt.ylabel('serum creatinine')\n",
    "plt.xlabel('ejection fraction')\n",
    "support_vectors = svm_model.support_vectors_\n",
    "plt.scatter(support_vectors[:,0], support_vectors[:,1])\n",
    "plt.show()"
   ]
  },
  {
   "cell_type": "code",
   "execution_count": null,
   "metadata": {
    "id": "TXPY1olAKnJ9"
   },
   "outputs": [],
   "source": [
    "# from sklearn.metrics import plot_confusion_matrix\n",
    "\n",
    "# plot_confusion_matrix(knn_model, X_test, y_test)\n"
   ]
  },
  {
   "cell_type": "code",
   "execution_count": null,
   "metadata": {
    "id": "q_EnzyokE2Rp"
   },
   "outputs": [],
   "source": [
    "# !pip install dtreeviz"
   ]
  },
  {
   "cell_type": "code",
   "execution_count": null,
   "metadata": {
    "id": "Oe8s0SQRCoP0"
   },
   "outputs": [],
   "source": [
    "# from dtreeviz.trees import dtreeviz\n",
    "\n",
    "\n",
    "# viz = dtreeviz(RF_model.estimators_[10], X_train, y_train,\n",
    "#                target_name=\"train data\",\n",
    "#                feature_names=top_name,\n",
    "#                title=\"10th decision tree in our random forest\")\n",
    "\n",
    "# viz.save(\"decision_tree_with_train_data.svg\")\n",
    "# # from google.colab import files\n",
    "# # files.download(\"decision_tree_with_train_data.svg\")\n"
   ]
  },
  {
   "cell_type": "code",
   "execution_count": null,
   "metadata": {
    "colab": {
     "base_uri": "https://localhost:8080/"
    },
    "executionInfo": {
     "elapsed": 8,
     "status": "ok",
     "timestamp": 1640057101821,
     "user": {
      "displayName": "rowy zhong",
      "photoUrl": "https://lh3.googleusercontent.com/a/default-user=s64",
      "userId": "14852675221429198810"
     },
     "user_tz": 300
    },
    "id": "KT2heNAJkZkB",
    "outputId": "7db39783-d2f1-4d44-b2b4-944c81b2290d"
   },
   "outputs": [
    {
     "data": {
      "text/plain": [
       "[0.7666666666666667,\n",
       " 0.7555555555555555,\n",
       " 0.7444444444444445,\n",
       " 0.7333333333333333]"
      ]
     },
     "execution_count": 15,
     "metadata": {},
     "output_type": "execute_result"
    }
   ],
   "source": [
    "accuracy_list"
   ]
  },
  {
   "cell_type": "code",
   "execution_count": null,
   "metadata": {
    "colab": {
     "base_uri": "https://localhost:8080/",
     "height": 449
    },
    "executionInfo": {
     "elapsed": 695,
     "status": "ok",
     "timestamp": 1640057102510,
     "user": {
      "displayName": "rowy zhong",
      "photoUrl": "https://lh3.googleusercontent.com/a/default-user=s64",
      "userId": "14852675221429198810"
     },
     "user_tz": 300
    },
    "id": "7BvLTt2aii3Y",
    "outputId": "a11b4cc7-3bee-4a78-bdd3-6ad0fe5fb770"
   },
   "outputs": [
    {
     "data": {
      "image/png": "[encoded data removed]",
      "text/plain": [
       "<Figure size 864x504 with 1 Axes>"
      ]
     },
     "metadata": {
      "needs_background": "light"
     },
     "output_type": "display_data"
    }
   ],
   "source": [
    "import seaborn as sns\n",
    "plt.figure(figsize=(12,7))\n",
    "models=[\"RF\",\"Log Reg\", \"SVM\", \"KNN\"]\n",
    "ax = sns.barplot(x=models, y=accuracy_list)\n",
    "plt.xlabel(\"Classifiers\", fontsize=15)\n",
    "plt.ylabel(\"Accuracy (%)\", fontsize=15)\n",
    "for p in ax.patches:\n",
    "    width = p.get_width()\n",
    "    height = p.get_height()\n",
    "    x = p.get_x()\n",
    "    y = p.get_y()\n",
    "    ax.annotate(f\"{height} %\", (x + width/2, y+ height*1.01), ha=\"center\")\n",
    "plt.show()"
   ]
  },
  {
   "cell_type": "code",
   "execution_count": null,
   "metadata": {
    "colab": {
     "base_uri": "https://localhost:8080/",
     "height": 314
    },
    "executionInfo": {
     "elapsed": 489,
     "status": "ok",
     "timestamp": 1640057102908,
     "user": {
      "displayName": "rowy zhong",
      "photoUrl": "https://lh3.googleusercontent.com/a/default-user=s64",
      "userId": "14852675221429198810"
     },
     "user_tz": 300
    },
    "id": "qYFZukWRYJRF",
    "outputId": "471f28a5-f7a9-425d-b0b6-0edd3d90ba94"
   },
   "outputs": [
    {
     "data": {
      "image/png": "[encoded data removed]",
      "text/plain": [
       "<Figure size 1440x360 with 5 Axes>"
      ]
     },
     "metadata": {
      "needs_background": "light"
     },
     "output_type": "display_data"
    }
   ],
   "source": [
    "from sklearn.metrics import confusion_matrix, ConfusionMatrixDisplay\n",
    "\n",
    "classifiers = {\n",
    "    \"RandomForest\" : RF_model,\n",
    "    \"Logistic Regression\" : log_reg,\n",
    "    \"SVM\" : svm_model,\n",
    "    \"KNN\": knn_model\n",
    "}\n",
    "\n",
    "f, axes = plt.subplots(1, 4, figsize=(20, 5), sharey='row')\n",
    "\n",
    "for i, (key, classifier) in enumerate(classifiers.items()):\n",
    "    y_pred = classifier.fit(X_train, y_train).predict(X_test)\n",
    "    cf_matrix = confusion_matrix(y_test, y_pred)\n",
    "    disp = ConfusionMatrixDisplay(cf_matrix) #data.target_names) \n",
    "    disp.plot(ax=axes[i], xticks_rotation=45)\n",
    "    disp.ax_.set_title(key)\n",
    "    disp.im_.colorbar.remove()\n",
    "    disp.ax_.set_xlabel('')\n",
    "    if i!=0:\n",
    "        disp.ax_.set_ylabel('')\n",
    "\n",
    "f.text(0.4, 0.1, 'Predicted label', ha='left')\n",
    "plt.subplots_adjust(wspace=0.40, hspace=0.1)\n",
    "\n",
    "\n",
    "f.colorbar(disp.im_, ax=axes)\n",
    "plt.show()\n"
   ]
  },
  {
   "cell_type": "code",
   "execution_count": null,
   "metadata": {
    "id": "BLrY_ARKTWf-"
   },
   "outputs": [],
   "source": []
  }
 ],
 "metadata": {
  "accelerator": "GPU",
  "colab": {
   "collapsed_sections": [],
   "name": "Final project.ipynb",
   "provenance": []
  },
  "kernelspec": {
   "display_name": "Python 3 (ipykernel)",
   "language": "python",
   "name": "python3"
  },
  "language_info": {
   "codemirror_mode": {
    "name": "ipython",
    "version": 3
   },
   "file_extension": ".py",
   "mimetype": "text/x-python",
   "name": "python",
   "nbconvert_exporter": "python",
   "pygments_lexer": "ipython3",
   "version": "3.9.7"
  }
 },
 "nbformat": 4,
 "nbformat_minor": 1
}
